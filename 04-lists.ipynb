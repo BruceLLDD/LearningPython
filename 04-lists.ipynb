{
 "cells": [
  {
   "cell_type": "code",
   "execution_count": 27,
   "metadata": {},
   "outputs": [
    {
     "name": "stdout",
     "output_type": "stream",
     "text": [
      "adds are:  [1, 3, 5, 7]\n"
     ]
    }
   ],
   "source": [
    "odds = [1,3,5,7]\n",
    "print(\"adds are: \", odds)"
   ]
  },
  {
   "cell_type": "code",
   "execution_count": 2,
   "metadata": {},
   "outputs": [
    {
     "name": "stdout",
     "output_type": "stream",
     "text": [
      "first element in the list: 1\n"
     ]
    }
   ],
   "source": [
    "print(\"first element in the list:\", odds[0])"
   ]
  },
  {
   "cell_type": "code",
   "execution_count": 3,
   "metadata": {},
   "outputs": [
    {
     "name": "stdout",
     "output_type": "stream",
     "text": [
      "last element in the list 7\n"
     ]
    }
   ],
   "source": [
    "print(\"last element in the list\", odds[-1])"
   ]
  },
  {
   "cell_type": "code",
   "execution_count": 6,
   "metadata": {},
   "outputs": [
    {
     "name": "stdout",
     "output_type": "stream",
     "text": [
      "every second element in the list [1, 5]\n"
     ]
    }
   ],
   "source": [
    "print(\"every second element in the list\", odds[0::2])"
   ]
  },
  {
   "cell_type": "code",
   "execution_count": 7,
   "metadata": {},
   "outputs": [
    {
     "name": "stdout",
     "output_type": "stream",
     "text": [
      "names is originally ['curry', 'Darwing', 'Turing']\n",
      "final names:  ['curry', 'Bruce', 'Turing']\n"
     ]
    }
   ],
   "source": [
    "names = [\"curry\",\"Darwing\", \"Turing\"]\n",
    "print(\"names is originally\", names)\n",
    "names[1] =\"Bruce\"\n",
    "print(\"final names: \", names)"
   ]
  },
  {
   "cell_type": "code",
   "execution_count": 8,
   "metadata": {},
   "outputs": [
    {
     "name": "stdout",
     "output_type": "stream",
     "text": [
      "Print first character in the name:  D\n"
     ]
    }
   ],
   "source": [
    "name = \"Darwin\"\n",
    "print(\"Print first character in the name: \", name[0])"
   ]
  },
  {
   "cell_type": "code",
   "execution_count": 10,
   "metadata": {},
   "outputs": [
    {
     "name": "stdout",
     "output_type": "stream",
     "text": [
      "courgette\n"
     ]
    }
   ],
   "source": [
    "x = [\n",
    "        [\"peper\",\"courgette\", \"onion\"],\n",
    "        [\"cabbage\", \"lecture\",\"garlic\"],\n",
    "        [\"apple\",\"pear\",\"banana\"]\n",
    "]\n",
    "print(x[0][1])"
   ]
  },
  {
   "cell_type": "code",
   "execution_count": 12,
   "metadata": {},
   "outputs": [
    {
     "name": "stdout",
     "output_type": "stream",
     "text": [
      "<class 'int'>\n",
      "<class 'float'>\n",
      "<class 'str'>\n"
     ]
    }
   ],
   "source": [
    "sample_ages = [10,12.5,\"unknown\"]\n",
    "print(type(sample_ages[0]))\n",
    "print(type(sample_ages[1]))\n",
    "print(type(sample_ages[2]))"
   ]
  },
  {
   "cell_type": "code",
   "execution_count": 28,
   "metadata": {},
   "outputs": [],
   "source": [
    "odds.append(11)"
   ]
  },
  {
   "cell_type": "code",
   "execution_count": 23,
   "metadata": {},
   "outputs": [
    {
     "name": "stdout",
     "output_type": "stream",
     "text": [
      "odds after adding avalue: []\n"
     ]
    }
   ],
   "source": [
    "print(\"odds after adding avalue:\", odds )"
   ]
  },
  {
   "cell_type": "code",
   "execution_count": 29,
   "metadata": {},
   "outputs": [
    {
     "name": "stdout",
     "output_type": "stream",
     "text": [
      "[3, 5, 7, 11]\n"
     ]
    }
   ],
   "source": [
    "remove_element = odds.pop(0)\n",
    "print(odds)"
   ]
  },
  {
   "cell_type": "code",
   "execution_count": 43,
   "metadata": {},
   "outputs": [
    {
     "name": "stdout",
     "output_type": "stream",
     "text": [
      "None\n"
     ]
    }
   ],
   "source": [
    "print(odds.reverse())"
   ]
  },
  {
   "cell_type": "code",
   "execution_count": 44,
   "metadata": {},
   "outputs": [
    {
     "name": "stdout",
     "output_type": "stream",
     "text": [
      "[11, 7, 5, 3]\n"
     ]
    }
   ],
   "source": [
    "print(odds)"
   ]
  },
  {
   "cell_type": "code",
   "execution_count": 53,
   "metadata": {},
   "outputs": [],
   "source": [
    "string_for_slicing = 'observation date: 02-feb-2013'"
   ]
  },
  {
   "cell_type": "code",
   "execution_count": 54,
   "metadata": {},
   "outputs": [
    {
     "name": "stdout",
     "output_type": "stream",
     "text": [
      "produce last 4 characters:  2013\n"
     ]
    }
   ],
   "source": [
    "print(\"produce last 4 characters: \", string_for_slicing[-4:])"
   ]
  },
  {
   "cell_type": "code",
   "execution_count": 59,
   "metadata": {},
   "outputs": [
    {
     "name": "stdout",
     "output_type": "stream",
     "text": [
      "the first the third and then every other character to the end: I notpssgre ntesae\n"
     ]
    }
   ],
   "source": [
    "beatles = \"In an octopus's garden in the shade\"\n",
    "print(\"the first the third and then every other character to the end:\", beatles[0::2])"
   ]
  },
  {
   "cell_type": "code",
   "execution_count": 1,
   "metadata": {},
   "outputs": [
    {
     "name": "stdout",
     "output_type": "stream",
     "text": [
      "[2, 4, 6, 8, 10, 2, 4, 6, 8, 10]\n"
     ]
    }
   ],
   "source": [
    "counts = [2,4,6,8,10]\n",
    "print(counts*2)"
   ]
  },
  {
   "cell_type": "markdown",
   "metadata": {},
   "source": [
    "joins的符号*"
   ]
  },
  {
   "cell_type": "markdown",
   "metadata": {},
   "source": [
    "要想把list里的数都扩大需要转化成array 然后再用*"
   ]
  },
  {
   "cell_type": "code",
   "execution_count": null,
   "metadata": {},
   "outputs": [],
   "source": []
  }
 ],
 "metadata": {
  "kernelspec": {
   "display_name": "Python 3",
   "language": "python",
   "name": "python3"
  },
  "language_info": {
   "codemirror_mode": {
    "name": "ipython",
    "version": 3
   },
   "file_extension": ".py",
   "mimetype": "text/x-python",
   "name": "python",
   "nbconvert_exporter": "python",
   "pygments_lexer": "ipython3",
   "version": "3.7.6"
  }
 },
 "nbformat": 4,
 "nbformat_minor": 4
}
